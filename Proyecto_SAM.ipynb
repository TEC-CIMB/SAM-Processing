{
  "cells": [
    {
      "cell_type": "code",
      "execution_count": 1,
      "metadata": {},
      "outputs": [
        {
          "ename": "ImportError",
          "evalue": "cannot import name 'Load_Files' from 'Processing' (c:\\Users\\Jose Amorocho\\OneDrive\\Documentos\\SAM_Pyhton\\Processing.py)",
          "output_type": "error",
          "traceback": [
            "\u001b[1;31m---------------------------------------------------------------------------\u001b[0m",
            "\u001b[1;31mImportError\u001b[0m                               Traceback (most recent call last)",
            "Cell \u001b[1;32mIn [1], line 2\u001b[0m\n\u001b[0;32m      1\u001b[0m \u001b[39mfrom\u001b[39;00m \u001b[39mAngles_Determination\u001b[39;00m \u001b[39mimport\u001b[39;00m Angles_Ankle, Angles_Hip, Angles_Knee\n\u001b[1;32m----> 2\u001b[0m \u001b[39mfrom\u001b[39;00m \u001b[39mProcessing\u001b[39;00m \u001b[39mimport\u001b[39;00m Change_Range,Load_Files, Plot_Data, Resample, Same_size, Set_Data, Syncronize\n\u001b[0;32m      4\u001b[0m test\u001b[39m=\u001b[39m \u001b[39m'\u001b[39m\u001b[39mSJose_IClau\u001b[39m\u001b[39m'\u001b[39m \n\u001b[0;32m      5\u001b[0m dia \u001b[39m=\u001b[39m \u001b[39m'\u001b[39m\u001b[39mDia_1\u001b[39m\u001b[39m'\u001b[39m\n",
            "\u001b[1;31mImportError\u001b[0m: cannot import name 'Load_Files' from 'Processing' (c:\\Users\\Jose Amorocho\\OneDrive\\Documentos\\SAM_Pyhton\\Processing.py)"
          ]
        }
      ],
      "source": [
        "from Angles_Determination import Angles_Ankle, Angles_Hip, Angles_Knee\n",
        "from Processing import Change_Range,Load_Files, Plot_Data, Resample, Same_size, Set_Data, Syncronize\n",
        "\n",
        "test= 'SJose_IClau' \n",
        "dia = 'Dia_1'\n",
        "leg= 'r'\n",
        "dir= \"./2022_10_18/\"+dia+'/'+test+'/'\n",
        "# Load the data\n",
        "data= Load_Files(dir)\n",
        "# Set Start to 0 Sensors(SAM).\n",
        "data= Set_Data(data)\n",
        "# Adjust angles range to a continous angles.\n",
        "data= Change_Range(data,150)\n",
        "# Oversample the data to 200 Hz.\n",
        "data= Resample(data,200)\n",
        "data= Syncronize(data)\n",
        "# Resample the data to 50 Hz.\n",
        "data  = Resample(data,50)\n",
        "# Same size of the data.\n",
        "Same_size(data)\n",
        "# Plot the data\n",
        "Plot_Data(data,test,'Pre-Processing')\n",
        "# Find Angles\n",
        "ang_hip  = Angles_Hip  (data['SENSOR11'], data['SENSOR07'], leg)\n",
        "ang_knee = Angles_Knee (data['SENSOR07'], data['SENSOR06'], leg)\n",
        "ang_ankle= Angles_Ankle(data['SENSOR06'], data['SENSOR08'], leg)\n",
        "\n",
        "time= data['SENSOR13']['TimeStamp']"
      ]
    },
    {
      "cell_type": "code",
      "execution_count": null,
      "metadata": {},
      "outputs": [],
      "source": [
        "from matplotlib.pyplot import show, subplots\n",
        "\n",
        "fig, ((fe1,aa1,ro1),(fe2,aa2,ro2),(fe3,aa3,ro3)) = subplots(3, 3, figsize=(9.6, 5.5))\n",
        "fe1.plot(data['SENSOR06']['TimeStamp'], ang_ankle['Fle_Ext'])\n",
        "aa1.plot(data['SENSOR06']['TimeStamp'], ang_ankle['Abd_Abb'])\n",
        "ro1.plot(data['SENSOR06']['TimeStamp'], ang_ankle['Rot'])\n",
        "\n",
        "fe2.plot(data['SENSOR06']['TimeStamp'], ang_knee['Fle_Ext'])\n",
        "aa2.plot(data['SENSOR06']['TimeStamp'], ang_knee['Abd_Abb'])\n",
        "ro2.plot(data['SENSOR06']['TimeStamp'], ang_knee['Rot'])\n",
        "\n",
        "fe3.plot(data['SENSOR06']['TimeStamp'], ang_hip['Fle_Ext'])\n",
        "aa3.plot(data['SENSOR06']['TimeStamp'], ang_hip['Abd_Abb'])\n",
        "ro3.plot(data['SENSOR06']['TimeStamp'], ang_hip['Rot'])\n",
        "\n",
        "fig.suptitle('Angle '+test)\n",
        "fe1.set_xlabel('Time (s)')\n",
        "fe1.set_ylabel('Angles(°)')\n",
        "fe1.set_title('Ankle Flex-Ext')\n",
        "aa1.set_xlabel('Time (s)')\n",
        "aa1.set_ylabel('Angles(°)')\n",
        "aa1.set_title('Ankle Abd-Abb')\n",
        "ro1.set_xlabel('Time (s)')\n",
        "ro1.set_ylabel('Angles(°)')\n",
        "ro1.set_title('Ankle Rotation')\n",
        "fe1.margins(0, 0.1)\n",
        "aa1.margins(0, 0.1)\n",
        "ro1.margins(0, 0.1)\n",
        "\n",
        "fe2.set_xlabel('Time (s)')\n",
        "fe2.set_ylabel('Angles(°)')\n",
        "fe2.set_title('Knee Flex-Ext')\n",
        "aa2.set_xlabel('Time (s)')\n",
        "aa2.set_ylabel('Angles(°)')\n",
        "aa2.set_title('Knee Abd-Abb')\n",
        "ro2.set_xlabel('Time (s)')\n",
        "ro2.set_ylabel('Angles(°)')\n",
        "ro2.set_title('Knee Rotation')\n",
        "fe2.margins(0, 0.1)\n",
        "aa2.margins(0, 0.1)\n",
        "ro2.margins(0, 0.1)\n",
        "\n",
        "fe3.set_xlabel('Time (s)')\n",
        "fe3.set_ylabel('Angles(°)')\n",
        "fe3.set_title('Hip Flex-Ext')\n",
        "aa3.set_xlabel('Time (s)')\n",
        "aa3.set_ylabel('Angles(°)')\n",
        "aa3.set_title('Hip Abd-Abb')\n",
        "ro3.set_xlabel('Time (s)')\n",
        "ro3.set_ylabel('Angles(°)')\n",
        "ro3.set_title('Hip Rotation')\n",
        "fe3.margins(0, 0.1)\n",
        "aa3.margins(0, 0.1)\n",
        "ro3.margins(0, 0.1)\n",
        "\n",
        "fig.tight_layout()\n",
        "show()"
      ]
    }
  ],
  "metadata": {
    "colab": {
      "provenance": []
    },
    "kernelspec": {
      "display_name": "Python 3.10.7 64-bit",
      "language": "python",
      "name": "python3"
    },
    "language_info": {
      "codemirror_mode": {
        "name": "ipython",
        "version": 3
      },
      "file_extension": ".py",
      "mimetype": "text/x-python",
      "name": "python",
      "nbconvert_exporter": "python",
      "pygments_lexer": "ipython3",
      "version": "3.10.7"
    },
    "vscode": {
      "interpreter": {
        "hash": "cba9fe1351fde865be724939ba121c2508c638ba39fcd62fef2706bccc046469"
      }
    }
  },
  "nbformat": 4,
  "nbformat_minor": 0
}
